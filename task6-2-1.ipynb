{
 "cells": [
  {
   "cell_type": "code",
   "execution_count": 1,
   "id": "initial_id",
   "metadata": {
    "collapsed": true,
    "ExecuteTime": {
     "end_time": "2024-04-25T07:37:38.113702800Z",
     "start_time": "2024-04-25T07:37:37.649101300Z"
    }
   },
   "outputs": [],
   "source": [
    "from bs4 import BeautifulSoup\n",
    "import requests"
   ]
  },
  {
   "cell_type": "code",
   "outputs": [],
   "source": [
    "url = \"https://books.toscrape.com/\""
   ],
   "metadata": {
    "collapsed": false,
    "ExecuteTime": {
     "end_time": "2024-04-25T07:38:18.123647Z",
     "start_time": "2024-04-25T07:38:17.727220200Z"
    }
   },
   "id": "63e4de52203445dc",
   "execution_count": 2
  },
  {
   "cell_type": "code",
   "outputs": [],
   "source": [
    "get_url = requests.get(url)"
   ],
   "metadata": {
    "collapsed": false,
    "ExecuteTime": {
     "end_time": "2024-04-25T08:15:51.495391800Z",
     "start_time": "2024-04-25T08:15:46.208824500Z"
    }
   },
   "id": "8216a90070d82793",
   "execution_count": 31
  },
  {
   "cell_type": "code",
   "outputs": [
    {
     "data": {
      "text/plain": "<Response [200]>"
     },
     "execution_count": 33,
     "metadata": {},
     "output_type": "execute_result"
    }
   ],
   "source": [
    "get_url"
   ],
   "metadata": {
    "collapsed": false,
    "ExecuteTime": {
     "end_time": "2024-04-25T08:16:17.287844500Z",
     "start_time": "2024-04-25T08:16:17.218201500Z"
    }
   },
   "id": "fa8bbffb7f04e8c",
   "execution_count": 33
  },
  {
   "cell_type": "code",
   "outputs": [],
   "source": [
    "html = get_url.content"
   ],
   "metadata": {
    "collapsed": false,
    "ExecuteTime": {
     "end_time": "2024-04-25T08:16:33.407209200Z",
     "start_time": "2024-04-25T08:16:33.370225300Z"
    }
   },
   "id": "7e6301e9bacccd0c",
   "execution_count": 34
  },
  {
   "cell_type": "code",
   "outputs": [],
   "source": [
    "soup = BeautifulSoup(html,'html.parser',from_encoding=\"utf-8\")"
   ],
   "metadata": {
    "collapsed": false,
    "ExecuteTime": {
     "end_time": "2024-04-25T08:16:40.220424300Z",
     "start_time": "2024-04-25T08:16:40.178449500Z"
    }
   },
   "id": "173ab0e065f12dc8",
   "execution_count": 35
  },
  {
   "cell_type": "code",
   "outputs": [],
   "source": [
    "name_book = soup.find('h3')"
   ],
   "metadata": {
    "collapsed": false,
    "ExecuteTime": {
     "end_time": "2024-04-25T08:23:28.065900800Z",
     "start_time": "2024-04-25T08:23:28.032667200Z"
    }
   },
   "id": "4121de04f4b82a84",
   "execution_count": 49
  },
  {
   "cell_type": "code",
   "outputs": [
    {
     "data": {
      "text/plain": "'A Light in the Attic'"
     },
     "execution_count": 50,
     "metadata": {},
     "output_type": "execute_result"
    }
   ],
   "source": [
    "name_book.a.get('title')"
   ],
   "metadata": {
    "collapsed": false,
    "ExecuteTime": {
     "end_time": "2024-04-25T08:23:58.851215400Z",
     "start_time": "2024-04-25T08:23:58.837769Z"
    }
   },
   "id": "f7600ed29fa27463",
   "execution_count": 50
  },
  {
   "cell_type": "code",
   "outputs": [],
   "source": [
    "price_books = soup.find_all('p',class_='price_color')"
   ],
   "metadata": {
    "collapsed": false,
    "ExecuteTime": {
     "end_time": "2024-04-25T08:26:07.050599300Z",
     "start_time": "2024-04-25T08:26:07.000244400Z"
    }
   },
   "id": "5c62b9bdfcf5de97",
   "execution_count": 51
  },
  {
   "cell_type": "code",
   "outputs": [
    {
     "data": {
      "text/plain": "[<p class=\"price_color\">£51.77</p>,\n <p class=\"price_color\">£53.74</p>,\n <p class=\"price_color\">£50.10</p>,\n <p class=\"price_color\">£47.82</p>,\n <p class=\"price_color\">£54.23</p>,\n <p class=\"price_color\">£22.65</p>,\n <p class=\"price_color\">£33.34</p>,\n <p class=\"price_color\">£17.93</p>,\n <p class=\"price_color\">£22.60</p>,\n <p class=\"price_color\">£52.15</p>,\n <p class=\"price_color\">£13.99</p>,\n <p class=\"price_color\">£20.66</p>,\n <p class=\"price_color\">£17.46</p>,\n <p class=\"price_color\">£52.29</p>,\n <p class=\"price_color\">£35.02</p>,\n <p class=\"price_color\">£57.25</p>,\n <p class=\"price_color\">£23.88</p>,\n <p class=\"price_color\">£37.59</p>,\n <p class=\"price_color\">£51.33</p>,\n <p class=\"price_color\">£45.17</p>]"
     },
     "execution_count": 52,
     "metadata": {},
     "output_type": "execute_result"
    }
   ],
   "source": [
    "price_books"
   ],
   "metadata": {
    "collapsed": false,
    "ExecuteTime": {
     "end_time": "2024-04-25T08:26:11.208636100Z",
     "start_time": "2024-04-25T08:26:11.174142700Z"
    }
   },
   "id": "dfe548bdf7928ef7",
   "execution_count": 52
  },
  {
   "cell_type": "code",
   "outputs": [
    {
     "name": "stdout",
     "output_type": "stream",
     "text": [
      "£51.77\n",
      "£53.74\n",
      "£50.10\n",
      "£47.82\n",
      "£54.23\n",
      "£22.65\n",
      "£33.34\n",
      "£17.93\n",
      "£22.60\n",
      "£52.15\n",
      "£13.99\n",
      "£20.66\n",
      "£17.46\n",
      "£52.29\n",
      "£35.02\n",
      "£57.25\n",
      "£23.88\n",
      "£37.59\n",
      "£51.33\n",
      "£45.17\n"
     ]
    }
   ],
   "source": [
    "for price_book in price_books:\n",
    "    rate = price_book.text\n",
    "    print(rate)"
   ],
   "metadata": {
    "collapsed": false,
    "ExecuteTime": {
     "end_time": "2024-04-25T08:28:26.765176500Z",
     "start_time": "2024-04-25T08:28:26.753187500Z"
    }
   },
   "id": "bc79b1e8d029d0a9",
   "execution_count": 57
  },
  {
   "cell_type": "code",
   "outputs": [
    {
     "data": {
      "text/plain": "20"
     },
     "execution_count": 58,
     "metadata": {},
     "output_type": "execute_result"
    }
   ],
   "source": [
    "len(price_books)"
   ],
   "metadata": {
    "collapsed": false,
    "ExecuteTime": {
     "end_time": "2024-04-25T08:29:11.938575Z",
     "start_time": "2024-04-25T08:29:11.925660100Z"
    }
   },
   "id": "ec89b7d6ef7f1744",
   "execution_count": 58
  },
  {
   "cell_type": "code",
   "outputs": [],
   "source": [
    "name_book2=soup.select('a[title]')"
   ],
   "metadata": {
    "collapsed": false,
    "ExecuteTime": {
     "end_time": "2024-04-25T08:37:22.900849400Z",
     "start_time": "2024-04-25T08:37:22.892851200Z"
    }
   },
   "id": "43c4af1434730e68",
   "execution_count": 68
  },
  {
   "cell_type": "code",
   "outputs": [
    {
     "data": {
      "text/plain": "'A Light in the Attic'"
     },
     "execution_count": 69,
     "metadata": {},
     "output_type": "execute_result"
    }
   ],
   "source": [
    "name_book2[0].get('title')"
   ],
   "metadata": {
    "collapsed": false,
    "ExecuteTime": {
     "end_time": "2024-04-25T08:37:30.978552900Z",
     "start_time": "2024-04-25T08:37:30.938182800Z"
    }
   },
   "id": "403d7e099918d36",
   "execution_count": 69
  },
  {
   "cell_type": "code",
   "outputs": [],
   "source": [
    "name_book3=soup.findAll('h3')"
   ],
   "metadata": {
    "collapsed": false,
    "ExecuteTime": {
     "end_time": "2024-04-25T08:37:32.308247300Z",
     "start_time": "2024-04-25T08:37:32.297189800Z"
    }
   },
   "id": "f670a33da55a6185",
   "execution_count": 70
  },
  {
   "cell_type": "code",
   "outputs": [
    {
     "data": {
      "text/plain": "'A Light in the Attic'"
     },
     "execution_count": 71,
     "metadata": {},
     "output_type": "execute_result"
    }
   ],
   "source": [
    "name_book3[0].a.get('title')"
   ],
   "metadata": {
    "collapsed": false,
    "ExecuteTime": {
     "end_time": "2024-04-25T08:37:32.874575300Z",
     "start_time": "2024-04-25T08:37:32.848590600Z"
    }
   },
   "id": "2de11b2071cf6733",
   "execution_count": 71
  },
  {
   "cell_type": "code",
   "outputs": [],
   "source": [],
   "metadata": {
    "collapsed": false
   },
   "id": "51f925a06f807a8c"
  }
 ],
 "metadata": {
  "kernelspec": {
   "display_name": "Python 3",
   "language": "python",
   "name": "python3"
  },
  "language_info": {
   "codemirror_mode": {
    "name": "ipython",
    "version": 2
   },
   "file_extension": ".py",
   "mimetype": "text/x-python",
   "name": "python",
   "nbconvert_exporter": "python",
   "pygments_lexer": "ipython2",
   "version": "2.7.6"
  }
 },
 "nbformat": 4,
 "nbformat_minor": 5
}
