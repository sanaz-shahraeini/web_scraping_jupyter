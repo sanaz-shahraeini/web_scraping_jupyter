{
 "cells": [
  {
   "cell_type": "markdown",
   "metadata": {},
   "source": []
  },
  {
   "cell_type": "markdown",
   "metadata": {},
   "source": [
    "<div id=\"section1\"   dir='rtl'>\n",
    "    <h3>\n",
    "تمرین بخش اول Beautiful Soup    </h3>\n",
    "<p dir='rtl'>\n",
    "    \n",
    "\n"
   ]
  },
  {
   "cell_type": "markdown",
   "source": [
    "chetory Zamir?!"
   ],
   "metadata": {
    "collapsed": false
   }
  },
  {
   "cell_type": "markdown",
   "metadata": {},
   "source": [
    "________________________________________________________"
   ]
  },
  {
   "cell_type": "markdown",
   "metadata": {},
   "source": [
    "<div id=\"section1\" dir='rtl'>\n",
    "    کتابخانه‌ها و ماژول‌های مورد نیاز را import کنید.\n",
    "\n",
    "</div>"
   ]
  },
  {
   "cell_type": "code",
   "execution_count": null,
   "metadata": {},
   "outputs": [],
   "source": []
  },
  {
   "cell_type": "markdown",
   "metadata": {},
   "source": [
    "<div id=\"section1\" dir='rtl'>\n",
    "می‌خواهیم سایت زیر را اسکرپ کنیم.\n",
    "    <br>\n",
    "    https://books.toscrape.com\n",
    "    <br>\n",
    "آدرس وب سایت را در یک متغیر ذخیره کنید.\n",
    "\n",
    "</div>"
   ]
  },
  {
   "cell_type": "code",
   "execution_count": null,
   "metadata": {},
   "outputs": [],
   "source": []
  },
  {
   "cell_type": "markdown",
   "metadata": {},
   "source": [
    "<div id=\"section1\" dir='rtl'>\n",
    "   بااستفاده از کتابخانه requests درخواست get بزنید و نتیجه را در یک متغیر ذخیره کنید.\n",
    "\n",
    "</div>"
   ]
  },
  {
   "cell_type": "code",
   "execution_count": null,
   "metadata": {},
   "outputs": [],
   "source": []
  },
  {
   "cell_type": "markdown",
   "metadata": {},
   "source": [
    "<div id=\"section1\" dir='rtl'>\n",
    " حال باید Status Code آن را چک کنید.\n",
    "</div>"
   ]
  },
  {
   "cell_type": "code",
   "execution_count": null,
   "metadata": {},
   "outputs": [],
   "source": []
  },
  {
   "cell_type": "markdown",
   "metadata": {},
   "source": [
    "<div id=\"section1\" dir='rtl'>\n",
    " Beautiful Soup object را بسازید.\n",
    "</div>"
   ]
  },
  {
   "cell_type": "code",
   "execution_count": null,
   "metadata": {},
   "outputs": [],
   "source": []
  },
  {
   "cell_type": "markdown",
   "metadata": {},
   "source": [
    "<div id=\"section1\" dir='rtl'>\n",
    "بااستفاده از تابع find نام اولین کتاب از سمت چپ را استخراج کنید.\n",
    "    <br>\n",
    "        توجه: هیچ n\\ ای در خروجی نباید وجود داشته باشد.\n",
    "    <br>\n",
    "    راهنمایی: می‌توانید از تگ article و class attribute استفاده کنید.\n",
    "\n",
    "</div>"
   ]
  },
  {
   "cell_type": "code",
   "execution_count": null,
   "metadata": {},
   "outputs": [],
   "source": []
  },
  {
   "cell_type": "code",
   "execution_count": null,
   "metadata": {},
   "outputs": [],
   "source": []
  },
  {
   "cell_type": "markdown",
   "metadata": {},
   "source": [
    "<div id=\"section1\" dir='rtl'>\n",
    " بااستفاده از تابع find_all یا findAll، قیمت همه کتاب‌های صفحه اول را استخراج کنید.\n",
    "    <br>\n",
    "    راهنمایی: می‌توانید از تگ p و class attribute استفاده کنید.\n",
    "\n",
    "</div>"
   ]
  },
  {
   "cell_type": "code",
   "execution_count": null,
   "metadata": {},
   "outputs": [],
   "source": []
  },
  {
   "cell_type": "code",
   "execution_count": null,
   "metadata": {},
   "outputs": [],
   "source": []
  },
  {
   "cell_type": "markdown",
   "metadata": {},
   "source": [
    "<div id=\"section1\" dir='rtl'>\n",
    " چه تعداد قیمت، استخراج کرده‌اید؟\n",
    "    (باید 20 قیمت استخراج شده باشد.)\n",
    "\n",
    "</div>"
   ]
  },
  {
   "cell_type": "code",
   "execution_count": null,
   "metadata": {},
   "outputs": [],
   "source": []
  },
  {
   "cell_type": "markdown",
   "metadata": {},
   "source": [
    "<div id=\"section1\" dir='rtl'>\n",
    "حال با استفاده از تابع select نام اولین کتاب از سمت چپ را استخراج کنید.\n",
    "    <br>\n",
    "        توجه: هیچ n\\ ای در خروجی نباید وجود داشته باشد.\n",
    "    <br>\n",
    "    آیا خروجی با خروجی تابع find یکسان است؟\n",
    "</div>"
   ]
  },
  {
   "cell_type": "code",
   "execution_count": null,
   "metadata": {},
   "outputs": [],
   "source": []
  },
  {
   "cell_type": "code",
   "execution_count": null,
   "metadata": {},
   "outputs": [],
   "source": []
  },
  {
   "cell_type": "markdown",
   "metadata": {},
   "source": [
    "<div id=\"section1\" dir='rtl'>\n",
    " حال بااستفاده از تابع select، قیمت همه کتاب‌های صفحه اول را استخراج کنید.\n",
    "    <br>\n",
    "    آیا خروجی با خروجی تابع find_all یا findAll یکسان است؟\n",
    "</div>"
   ]
  },
  {
   "cell_type": "code",
   "execution_count": null,
   "metadata": {},
   "outputs": [],
   "source": []
  },
  {
   "cell_type": "code",
   "execution_count": null,
   "metadata": {},
   "outputs": [],
   "source": []
  },
  {
   "cell_type": "markdown",
   "metadata": {},
   "source": [
    "<div id=\"section1\" dir='rtl'>\n",
    " از آنجاییکه نام کتاب در title attribute نیز ذکر شده است، می‌توانیم برای استخراج این نام از سه روش استفاده کنیم.\n",
    "    <br>\n",
    "    استخراج نام اولین کتاب از سمت چپ - روش اول:\n",
    "</div>"
   ]
  },
  {
   "cell_type": "code",
   "execution_count": null,
   "metadata": {},
   "outputs": [],
   "source": []
  },
  {
   "cell_type": "code",
   "execution_count": null,
   "metadata": {},
   "outputs": [],
   "source": []
  },
  {
   "cell_type": "markdown",
   "metadata": {},
   "source": [
    "<div id=\"section1\" dir='rtl'>\n",
    "    استخراج نام اولین کتاب از سمت چپ - روش دوم:\n",
    "</div>"
   ]
  },
  {
   "cell_type": "code",
   "execution_count": null,
   "metadata": {},
   "outputs": [],
   "source": []
  },
  {
   "cell_type": "code",
   "execution_count": null,
   "metadata": {},
   "outputs": [],
   "source": []
  },
  {
   "cell_type": "markdown",
   "metadata": {},
   "source": [
    "<div id=\"section1\" dir='rtl'>\n",
    "    استخراج نام اولین کتاب از سمت چپ - روش سوم:\n",
    "</div>"
   ]
  },
  {
   "cell_type": "code",
   "execution_count": null,
   "metadata": {},
   "outputs": [],
   "source": []
  },
  {
   "cell_type": "code",
   "execution_count": null,
   "metadata": {},
   "outputs": [],
   "source": []
  }
 ],
 "metadata": {
  "kernelspec": {
   "display_name": "Python 3",
   "language": "python",
   "name": "python3"
  },
  "language_info": {
   "codemirror_mode": {
    "name": "ipython",
    "version": 3
   },
   "file_extension": ".py",
   "mimetype": "text/x-python",
   "name": "python",
   "nbconvert_exporter": "python",
   "pygments_lexer": "ipython3",
   "version": "3.8.3"
  }
 },
 "nbformat": 4,
 "nbformat_minor": 4
}
