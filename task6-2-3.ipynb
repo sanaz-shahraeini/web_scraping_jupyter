{
 "cells": [
  {
   "cell_type": "code",
   "execution_count": 1,
   "id": "initial_id",
   "metadata": {
    "collapsed": true,
    "ExecuteTime": {
     "end_time": "2024-04-25T09:45:51.400700400Z",
     "start_time": "2024-04-25T09:45:49.842145100Z"
    }
   },
   "outputs": [],
   "source": [
    "from bs4 import BeautifulSoup\n",
    "import requests\n",
    "import pandas"
   ]
  },
  {
   "cell_type": "code",
   "outputs": [],
   "source": [
    "url = \"https://books.toscrape.com/\""
   ],
   "metadata": {
    "collapsed": false,
    "ExecuteTime": {
     "end_time": "2024-04-25T09:46:12.228174Z",
     "start_time": "2024-04-25T09:46:12.219534400Z"
    }
   },
   "id": "8f8d698bfce5093e",
   "execution_count": 2
  },
  {
   "cell_type": "code",
   "outputs": [],
   "source": [
    "get_url = requests.get(url)"
   ],
   "metadata": {
    "collapsed": false,
    "ExecuteTime": {
     "end_time": "2024-04-25T09:46:33.570784900Z",
     "start_time": "2024-04-25T09:46:21.724057400Z"
    }
   },
   "id": "2cb3436aab9173c2",
   "execution_count": 3
  },
  {
   "cell_type": "code",
   "outputs": [],
   "source": [
    "html = get_url.content"
   ],
   "metadata": {
    "collapsed": false,
    "ExecuteTime": {
     "end_time": "2024-04-25T09:46:46.109535300Z",
     "start_time": "2024-04-25T09:46:46.078532800Z"
    }
   },
   "id": "fe33f3c63bad7661",
   "execution_count": 4
  },
  {
   "cell_type": "code",
   "outputs": [],
   "source": [
    "soup = BeautifulSoup(html, \"html.parser\")"
   ],
   "metadata": {
    "collapsed": false,
    "ExecuteTime": {
     "end_time": "2024-04-25T09:47:04.068977Z",
     "start_time": "2024-04-25T09:47:04.063975500Z"
    }
   },
   "id": "16d3246989814e9c",
   "execution_count": 5
  },
  {
   "cell_type": "code",
   "outputs": [
    {
     "data": {
      "text/plain": "<Response [200]>"
     },
     "execution_count": 6,
     "metadata": {},
     "output_type": "execute_result"
    }
   ],
   "source": [
    "get_url"
   ],
   "metadata": {
    "collapsed": false,
    "ExecuteTime": {
     "end_time": "2024-04-25T09:47:38.842691200Z",
     "start_time": "2024-04-25T09:47:38.822458500Z"
    }
   },
   "id": "685be4b2a0bd7fa3",
   "execution_count": 6
  },
  {
   "cell_type": "code",
   "outputs": [],
   "source": [
    "data_book = {\"name_books\":[], \"price_books\":[], \"star_books\":[], \"url_books\":[]}"
   ],
   "metadata": {
    "collapsed": false,
    "ExecuteTime": {
     "end_time": "2024-04-25T10:49:33.133869100Z",
     "start_time": "2024-04-25T10:49:33.081737700Z"
    }
   },
   "id": "c58da7b01a6cf74e",
   "execution_count": 79
  },
  {
   "cell_type": "code",
   "outputs": [],
   "source": [
    "name_books= soup.find_all('h3')"
   ],
   "metadata": {
    "collapsed": false,
    "ExecuteTime": {
     "end_time": "2024-04-25T10:49:33.348869400Z",
     "start_time": "2024-04-25T10:49:33.320820800Z"
    }
   },
   "id": "f1440e94418c1706",
   "execution_count": 80
  },
  {
   "cell_type": "code",
   "outputs": [],
   "source": [
    "for name_book in name_books:\n",
    "    names=name_book.a.get('title')\n",
    "    data_book[\"name_books\"].append(names)"
   ],
   "metadata": {
    "collapsed": false,
    "ExecuteTime": {
     "end_time": "2024-04-25T10:49:33.645346300Z",
     "start_time": "2024-04-25T10:49:33.530765600Z"
    }
   },
   "id": "9c47f1cfb844db6a",
   "execution_count": 81
  },
  {
   "cell_type": "code",
   "outputs": [],
   "source": [
    "price_books= soup.find_all('p', class_='price_color')"
   ],
   "metadata": {
    "collapsed": false,
    "ExecuteTime": {
     "end_time": "2024-04-25T10:49:33.665333400Z",
     "start_time": "2024-04-25T10:49:33.658337800Z"
    }
   },
   "id": "9f9e8f14862b2dc7",
   "execution_count": 82
  },
  {
   "cell_type": "code",
   "outputs": [],
   "source": [
    "for price_book in price_books:\n",
    "    data_book[\"price_books\"].append(price_book.text)"
   ],
   "metadata": {
    "collapsed": false,
    "ExecuteTime": {
     "end_time": "2024-04-25T10:49:33.848967600Z",
     "start_time": "2024-04-25T10:49:33.832979300Z"
    }
   },
   "id": "8171abf6ae81a6d",
   "execution_count": 83
  },
  {
   "cell_type": "code",
   "outputs": [
    {
     "data": {
      "text/plain": "{'name_books': ['A Light in the Attic',\n  'Tipping the Velvet',\n  'Soumission',\n  'Sharp Objects',\n  'Sapiens: A Brief History of Humankind',\n  'The Requiem Red',\n  'The Dirty Little Secrets of Getting Your Dream Job',\n  'The Coming Woman: A Novel Based on the Life of the Infamous Feminist, Victoria Woodhull',\n  'The Boys in the Boat: Nine Americans and Their Epic Quest for Gold at the 1936 Berlin Olympics',\n  'The Black Maria',\n  'Starving Hearts (Triangular Trade Trilogy, #1)',\n  \"Shakespeare's Sonnets\",\n  'Set Me Free',\n  \"Scott Pilgrim's Precious Little Life (Scott Pilgrim #1)\",\n  'Rip it Up and Start Again',\n  'Our Band Could Be Your Life: Scenes from the American Indie Underground, 1981-1991',\n  'Olio',\n  'Mesaerion: The Best Science Fiction Stories 1800-1849',\n  'Libertarianism for Beginners',\n  \"It's Only the Himalayas\"],\n 'price_books': ['£51.77',\n  '£53.74',\n  '£50.10',\n  '£47.82',\n  '£54.23',\n  '£22.65',\n  '£33.34',\n  '£17.93',\n  '£22.60',\n  '£52.15',\n  '£13.99',\n  '£20.66',\n  '£17.46',\n  '£52.29',\n  '£35.02',\n  '£57.25',\n  '£23.88',\n  '£37.59',\n  '£51.33',\n  '£45.17'],\n 'star_books': [],\n 'url_books': []}"
     },
     "execution_count": 84,
     "metadata": {},
     "output_type": "execute_result"
    }
   ],
   "source": [
    "data_book"
   ],
   "metadata": {
    "collapsed": false,
    "ExecuteTime": {
     "end_time": "2024-04-25T10:49:33.991918900Z",
     "start_time": "2024-04-25T10:49:33.984665500Z"
    }
   },
   "id": "c14651d22faa9fa1",
   "execution_count": 84
  },
  {
   "cell_type": "code",
   "outputs": [],
   "source": [
    "star_books= soup.find_all('article', class_=\"product_pod\")"
   ],
   "metadata": {
    "collapsed": false,
    "ExecuteTime": {
     "end_time": "2024-04-25T10:49:34.183749900Z",
     "start_time": "2024-04-25T10:49:34.166754500Z"
    }
   },
   "id": "fc2ecacba386495a",
   "execution_count": 85
  },
  {
   "cell_type": "code",
   "outputs": [],
   "source": [
    "for star_book in star_books:\n",
    "    lis_star = list(star_book.p.get('class'))\n",
    "    data_book[\"star_books\"].append(lis_star[1])"
   ],
   "metadata": {
    "collapsed": false,
    "ExecuteTime": {
     "end_time": "2024-04-25T10:49:34.370267400Z",
     "start_time": "2024-04-25T10:49:34.357277100Z"
    }
   },
   "id": "d11bed1cc139c438",
   "execution_count": 86
  },
  {
   "cell_type": "code",
   "outputs": [
    {
     "data": {
      "text/plain": "{'name_books': ['A Light in the Attic',\n  'Tipping the Velvet',\n  'Soumission',\n  'Sharp Objects',\n  'Sapiens: A Brief History of Humankind',\n  'The Requiem Red',\n  'The Dirty Little Secrets of Getting Your Dream Job',\n  'The Coming Woman: A Novel Based on the Life of the Infamous Feminist, Victoria Woodhull',\n  'The Boys in the Boat: Nine Americans and Their Epic Quest for Gold at the 1936 Berlin Olympics',\n  'The Black Maria',\n  'Starving Hearts (Triangular Trade Trilogy, #1)',\n  \"Shakespeare's Sonnets\",\n  'Set Me Free',\n  \"Scott Pilgrim's Precious Little Life (Scott Pilgrim #1)\",\n  'Rip it Up and Start Again',\n  'Our Band Could Be Your Life: Scenes from the American Indie Underground, 1981-1991',\n  'Olio',\n  'Mesaerion: The Best Science Fiction Stories 1800-1849',\n  'Libertarianism for Beginners',\n  \"It's Only the Himalayas\"],\n 'price_books': ['£51.77',\n  '£53.74',\n  '£50.10',\n  '£47.82',\n  '£54.23',\n  '£22.65',\n  '£33.34',\n  '£17.93',\n  '£22.60',\n  '£52.15',\n  '£13.99',\n  '£20.66',\n  '£17.46',\n  '£52.29',\n  '£35.02',\n  '£57.25',\n  '£23.88',\n  '£37.59',\n  '£51.33',\n  '£45.17'],\n 'star_books': ['Three',\n  'One',\n  'One',\n  'Four',\n  'Five',\n  'One',\n  'Four',\n  'Three',\n  'Four',\n  'One',\n  'Two',\n  'Four',\n  'Five',\n  'Five',\n  'Five',\n  'Three',\n  'One',\n  'One',\n  'Two',\n  'Two'],\n 'url_books': []}"
     },
     "execution_count": 87,
     "metadata": {},
     "output_type": "execute_result"
    }
   ],
   "source": [
    "data_book"
   ],
   "metadata": {
    "collapsed": false,
    "ExecuteTime": {
     "end_time": "2024-04-25T10:49:34.572126200Z",
     "start_time": "2024-04-25T10:49:34.559645500Z"
    }
   },
   "id": "c68964210652b1c",
   "execution_count": 87
  },
  {
   "cell_type": "code",
   "outputs": [],
   "source": [
    "url_books = soup.find_all('h3')"
   ],
   "metadata": {
    "collapsed": false,
    "ExecuteTime": {
     "end_time": "2024-04-25T10:49:34.754746100Z",
     "start_time": "2024-04-25T10:49:34.734625800Z"
    }
   },
   "id": "e7d7c985972faf87",
   "execution_count": 88
  },
  {
   "cell_type": "code",
   "outputs": [],
   "source": [
    "for url_book in url_books:\n",
    "    url_book = url + url_book.a.get('href')\n",
    "    data_book[\"url_books\"].append(url_book)"
   ],
   "metadata": {
    "collapsed": false,
    "ExecuteTime": {
     "end_time": "2024-04-25T10:49:34.938623600Z",
     "start_time": "2024-04-25T10:49:34.932622100Z"
    }
   },
   "id": "250b33f85651d493",
   "execution_count": 89
  },
  {
   "cell_type": "code",
   "outputs": [],
   "source": [
    "df_books = pandas.DataFrame(data=data_book)"
   ],
   "metadata": {
    "collapsed": false,
    "ExecuteTime": {
     "end_time": "2024-04-25T10:51:02.498638700Z",
     "start_time": "2024-04-25T10:51:02.393895200Z"
    }
   },
   "id": "94f2043c86f71dad",
   "execution_count": 90
  },
  {
   "cell_type": "code",
   "outputs": [
    {
     "data": {
      "text/plain": "                                           name_books price_books star_books  \\\n0                                A Light in the Attic      £51.77      Three   \n1                                  Tipping the Velvet      £53.74        One   \n2                                          Soumission      £50.10        One   \n3                                       Sharp Objects      £47.82       Four   \n4               Sapiens: A Brief History of Humankind      £54.23       Five   \n5                                     The Requiem Red      £22.65        One   \n6   The Dirty Little Secrets of Getting Your Dream...      £33.34       Four   \n7   The Coming Woman: A Novel Based on the Life of...      £17.93      Three   \n8   The Boys in the Boat: Nine Americans and Their...      £22.60       Four   \n9                                     The Black Maria      £52.15        One   \n10     Starving Hearts (Triangular Trade Trilogy, #1)      £13.99        Two   \n11                              Shakespeare's Sonnets      £20.66       Four   \n12                                        Set Me Free      £17.46       Five   \n13  Scott Pilgrim's Precious Little Life (Scott Pi...      £52.29       Five   \n14                          Rip it Up and Start Again      £35.02       Five   \n15  Our Band Could Be Your Life: Scenes from the A...      £57.25      Three   \n16                                               Olio      £23.88        One   \n17  Mesaerion: The Best Science Fiction Stories 18...      £37.59        One   \n18                       Libertarianism for Beginners      £51.33        Two   \n19                            It's Only the Himalayas      £45.17        Two   \n\n                                            url_books  \n0   https://books.toscrape.com/catalogue/a-light-i...  \n1   https://books.toscrape.com/catalogue/tipping-t...  \n2   https://books.toscrape.com/catalogue/soumissio...  \n3   https://books.toscrape.com/catalogue/sharp-obj...  \n4   https://books.toscrape.com/catalogue/sapiens-a...  \n5   https://books.toscrape.com/catalogue/the-requi...  \n6   https://books.toscrape.com/catalogue/the-dirty...  \n7   https://books.toscrape.com/catalogue/the-comin...  \n8   https://books.toscrape.com/catalogue/the-boys-...  \n9   https://books.toscrape.com/catalogue/the-black...  \n10  https://books.toscrape.com/catalogue/starving-...  \n11  https://books.toscrape.com/catalogue/shakespea...  \n12  https://books.toscrape.com/catalogue/set-me-fr...  \n13  https://books.toscrape.com/catalogue/scott-pil...  \n14  https://books.toscrape.com/catalogue/rip-it-up...  \n15  https://books.toscrape.com/catalogue/our-band-...  \n16  https://books.toscrape.com/catalogue/olio_984/...  \n17  https://books.toscrape.com/catalogue/mesaerion...  \n18  https://books.toscrape.com/catalogue/libertari...  \n19  https://books.toscrape.com/catalogue/its-only-...  ",
      "text/html": "<div>\n<style scoped>\n    .dataframe tbody tr th:only-of-type {\n        vertical-align: middle;\n    }\n\n    .dataframe tbody tr th {\n        vertical-align: top;\n    }\n\n    .dataframe thead th {\n        text-align: right;\n    }\n</style>\n<table border=\"1\" class=\"dataframe\">\n  <thead>\n    <tr style=\"text-align: right;\">\n      <th></th>\n      <th>name_books</th>\n      <th>price_books</th>\n      <th>star_books</th>\n      <th>url_books</th>\n    </tr>\n  </thead>\n  <tbody>\n    <tr>\n      <th>0</th>\n      <td>A Light in the Attic</td>\n      <td>£51.77</td>\n      <td>Three</td>\n      <td>https://books.toscrape.com/catalogue/a-light-i...</td>\n    </tr>\n    <tr>\n      <th>1</th>\n      <td>Tipping the Velvet</td>\n      <td>£53.74</td>\n      <td>One</td>\n      <td>https://books.toscrape.com/catalogue/tipping-t...</td>\n    </tr>\n    <tr>\n      <th>2</th>\n      <td>Soumission</td>\n      <td>£50.10</td>\n      <td>One</td>\n      <td>https://books.toscrape.com/catalogue/soumissio...</td>\n    </tr>\n    <tr>\n      <th>3</th>\n      <td>Sharp Objects</td>\n      <td>£47.82</td>\n      <td>Four</td>\n      <td>https://books.toscrape.com/catalogue/sharp-obj...</td>\n    </tr>\n    <tr>\n      <th>4</th>\n      <td>Sapiens: A Brief History of Humankind</td>\n      <td>£54.23</td>\n      <td>Five</td>\n      <td>https://books.toscrape.com/catalogue/sapiens-a...</td>\n    </tr>\n    <tr>\n      <th>5</th>\n      <td>The Requiem Red</td>\n      <td>£22.65</td>\n      <td>One</td>\n      <td>https://books.toscrape.com/catalogue/the-requi...</td>\n    </tr>\n    <tr>\n      <th>6</th>\n      <td>The Dirty Little Secrets of Getting Your Dream...</td>\n      <td>£33.34</td>\n      <td>Four</td>\n      <td>https://books.toscrape.com/catalogue/the-dirty...</td>\n    </tr>\n    <tr>\n      <th>7</th>\n      <td>The Coming Woman: A Novel Based on the Life of...</td>\n      <td>£17.93</td>\n      <td>Three</td>\n      <td>https://books.toscrape.com/catalogue/the-comin...</td>\n    </tr>\n    <tr>\n      <th>8</th>\n      <td>The Boys in the Boat: Nine Americans and Their...</td>\n      <td>£22.60</td>\n      <td>Four</td>\n      <td>https://books.toscrape.com/catalogue/the-boys-...</td>\n    </tr>\n    <tr>\n      <th>9</th>\n      <td>The Black Maria</td>\n      <td>£52.15</td>\n      <td>One</td>\n      <td>https://books.toscrape.com/catalogue/the-black...</td>\n    </tr>\n    <tr>\n      <th>10</th>\n      <td>Starving Hearts (Triangular Trade Trilogy, #1)</td>\n      <td>£13.99</td>\n      <td>Two</td>\n      <td>https://books.toscrape.com/catalogue/starving-...</td>\n    </tr>\n    <tr>\n      <th>11</th>\n      <td>Shakespeare's Sonnets</td>\n      <td>£20.66</td>\n      <td>Four</td>\n      <td>https://books.toscrape.com/catalogue/shakespea...</td>\n    </tr>\n    <tr>\n      <th>12</th>\n      <td>Set Me Free</td>\n      <td>£17.46</td>\n      <td>Five</td>\n      <td>https://books.toscrape.com/catalogue/set-me-fr...</td>\n    </tr>\n    <tr>\n      <th>13</th>\n      <td>Scott Pilgrim's Precious Little Life (Scott Pi...</td>\n      <td>£52.29</td>\n      <td>Five</td>\n      <td>https://books.toscrape.com/catalogue/scott-pil...</td>\n    </tr>\n    <tr>\n      <th>14</th>\n      <td>Rip it Up and Start Again</td>\n      <td>£35.02</td>\n      <td>Five</td>\n      <td>https://books.toscrape.com/catalogue/rip-it-up...</td>\n    </tr>\n    <tr>\n      <th>15</th>\n      <td>Our Band Could Be Your Life: Scenes from the A...</td>\n      <td>£57.25</td>\n      <td>Three</td>\n      <td>https://books.toscrape.com/catalogue/our-band-...</td>\n    </tr>\n    <tr>\n      <th>16</th>\n      <td>Olio</td>\n      <td>£23.88</td>\n      <td>One</td>\n      <td>https://books.toscrape.com/catalogue/olio_984/...</td>\n    </tr>\n    <tr>\n      <th>17</th>\n      <td>Mesaerion: The Best Science Fiction Stories 18...</td>\n      <td>£37.59</td>\n      <td>One</td>\n      <td>https://books.toscrape.com/catalogue/mesaerion...</td>\n    </tr>\n    <tr>\n      <th>18</th>\n      <td>Libertarianism for Beginners</td>\n      <td>£51.33</td>\n      <td>Two</td>\n      <td>https://books.toscrape.com/catalogue/libertari...</td>\n    </tr>\n    <tr>\n      <th>19</th>\n      <td>It's Only the Himalayas</td>\n      <td>£45.17</td>\n      <td>Two</td>\n      <td>https://books.toscrape.com/catalogue/its-only-...</td>\n    </tr>\n  </tbody>\n</table>\n</div>"
     },
     "execution_count": 91,
     "metadata": {},
     "output_type": "execute_result"
    }
   ],
   "source": [
    "df_books"
   ],
   "metadata": {
    "collapsed": false,
    "ExecuteTime": {
     "end_time": "2024-04-25T10:51:05.875814300Z",
     "start_time": "2024-04-25T10:51:05.610535600Z"
    }
   },
   "id": "8c39e7e7bcd55f1c",
   "execution_count": 91
  },
  {
   "cell_type": "code",
   "outputs": [],
   "source": [
    "df_books.to_csv(\"books-to-scraps.csv\")"
   ],
   "metadata": {
    "collapsed": false,
    "ExecuteTime": {
     "end_time": "2024-04-25T10:56:54.054078500Z",
     "start_time": "2024-04-25T10:56:54.007118900Z"
    }
   },
   "id": "f04baf1f0a0b30aa",
   "execution_count": 95
  },
  {
   "cell_type": "code",
   "outputs": [],
   "source": [],
   "metadata": {
    "collapsed": false
   },
   "id": "9babfb3d661ff8c1"
  }
 ],
 "metadata": {
  "kernelspec": {
   "display_name": "Python 3",
   "language": "python",
   "name": "python3"
  },
  "language_info": {
   "codemirror_mode": {
    "name": "ipython",
    "version": 2
   },
   "file_extension": ".py",
   "mimetype": "text/x-python",
   "name": "python",
   "nbconvert_exporter": "python",
   "pygments_lexer": "ipython2",
   "version": "2.7.6"
  }
 },
 "nbformat": 4,
 "nbformat_minor": 5
}
