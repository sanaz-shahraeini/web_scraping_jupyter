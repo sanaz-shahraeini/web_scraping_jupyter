{
 "cells": [
  {
   "cell_type": "code",
   "execution_count": 1,
   "id": "initial_id",
   "metadata": {
    "collapsed": true,
    "ExecuteTime": {
     "end_time": "2024-04-25T09:04:22.553139700Z",
     "start_time": "2024-04-25T09:04:21.351571900Z"
    }
   },
   "outputs": [],
   "source": [
    "from bs4 import BeautifulSoup\n",
    "import requests"
   ]
  },
  {
   "cell_type": "code",
   "outputs": [],
   "source": [
    "url = \"https://books.toscrape.com/\""
   ],
   "metadata": {
    "collapsed": false,
    "ExecuteTime": {
     "end_time": "2024-04-25T09:04:38.584159900Z",
     "start_time": "2024-04-25T09:04:38.561120200Z"
    }
   },
   "id": "d29c1c069d275680",
   "execution_count": 2
  },
  {
   "cell_type": "code",
   "outputs": [],
   "source": [
    "get_url = requests.get(url)"
   ],
   "metadata": {
    "collapsed": false,
    "ExecuteTime": {
     "end_time": "2024-04-25T09:05:21.909652600Z",
     "start_time": "2024-04-25T09:05:17.481200700Z"
    }
   },
   "id": "21097467b63c2ad7",
   "execution_count": 4
  },
  {
   "cell_type": "code",
   "outputs": [],
   "source": [
    "html = get_url.content"
   ],
   "metadata": {
    "collapsed": false,
    "ExecuteTime": {
     "end_time": "2024-04-25T09:05:36.733821Z",
     "start_time": "2024-04-25T09:05:36.717825700Z"
    }
   },
   "id": "1a19d258ad632f0c",
   "execution_count": 5
  },
  {
   "cell_type": "code",
   "outputs": [],
   "source": [
    "soup = BeautifulSoup(html, \"html.parser\", from_encoding=\"utf-8\")"
   ],
   "metadata": {
    "collapsed": false,
    "ExecuteTime": {
     "end_time": "2024-04-25T09:06:04.718268800Z",
     "start_time": "2024-04-25T09:06:04.699989500Z"
    }
   },
   "id": "b10c63c4dcd9b042",
   "execution_count": 6
  },
  {
   "cell_type": "code",
   "outputs": [],
   "source": [
    "name_book = soup.find('h3')"
   ],
   "metadata": {
    "collapsed": false,
    "ExecuteTime": {
     "end_time": "2024-04-25T09:08:29.928229800Z",
     "start_time": "2024-04-25T09:08:29.911235300Z"
    }
   },
   "id": "75126cd7842fc240",
   "execution_count": 10
  },
  {
   "cell_type": "code",
   "outputs": [
    {
     "data": {
      "text/plain": "'A Light in the Attic'"
     },
     "execution_count": 11,
     "metadata": {},
     "output_type": "execute_result"
    }
   ],
   "source": [
    "name_book.a.get('title')"
   ],
   "metadata": {
    "collapsed": false,
    "ExecuteTime": {
     "end_time": "2024-04-25T09:08:32.225261600Z",
     "start_time": "2024-04-25T09:08:32.203186100Z"
    }
   },
   "id": "23b5861014f58bea",
   "execution_count": 11
  },
  {
   "cell_type": "code",
   "outputs": [],
   "source": [
    "price_book = soup.find('p', class_='price_color').text"
   ],
   "metadata": {
    "collapsed": false,
    "ExecuteTime": {
     "end_time": "2024-04-25T09:10:22.630156400Z",
     "start_time": "2024-04-25T09:10:22.617159Z"
    }
   },
   "id": "41c50810a81f51c0",
   "execution_count": 14
  },
  {
   "cell_type": "code",
   "outputs": [
    {
     "data": {
      "text/plain": "'51.77'"
     },
     "execution_count": 18,
     "metadata": {},
     "output_type": "execute_result"
    }
   ],
   "source": [
    "price_book.replace('£','')"
   ],
   "metadata": {
    "collapsed": false,
    "ExecuteTime": {
     "end_time": "2024-04-25T09:11:44.092843900Z",
     "start_time": "2024-04-25T09:11:44.077573500Z"
    }
   },
   "id": "b03df3a916981e8b",
   "execution_count": 18
  },
  {
   "cell_type": "code",
   "outputs": [],
   "source": [
    "star_book = soup.find(\"p\")"
   ],
   "metadata": {
    "collapsed": false,
    "ExecuteTime": {
     "end_time": "2024-04-25T09:18:00.834856Z",
     "start_time": "2024-04-25T09:18:00.786040900Z"
    }
   },
   "id": "1b9a228cf60d1985",
   "execution_count": 19
  },
  {
   "cell_type": "code",
   "outputs": [],
   "source": [
    "lis_star = list(star_book.get('class'))"
   ],
   "metadata": {
    "collapsed": false,
    "ExecuteTime": {
     "end_time": "2024-04-25T09:20:04.749101500Z",
     "start_time": "2024-04-25T09:20:04.743104300Z"
    }
   },
   "id": "a793d2cf49d5264d",
   "execution_count": 26
  },
  {
   "cell_type": "code",
   "outputs": [
    {
     "data": {
      "text/plain": "'Three'"
     },
     "execution_count": 28,
     "metadata": {},
     "output_type": "execute_result"
    }
   ],
   "source": [
    "lis_star[1]"
   ],
   "metadata": {
    "collapsed": false,
    "ExecuteTime": {
     "end_time": "2024-04-25T09:20:16.302686700Z",
     "start_time": "2024-04-25T09:20:16.272785600Z"
    }
   },
   "id": "9d88dbcbf4b4f2e7",
   "execution_count": 28
  },
  {
   "cell_type": "code",
   "outputs": [],
   "source": [
    "url_book = soup.find('h3').a.get('href')"
   ],
   "metadata": {
    "collapsed": false,
    "ExecuteTime": {
     "end_time": "2024-04-25T09:24:36.885218300Z",
     "start_time": "2024-04-25T09:24:36.860476100Z"
    }
   },
   "id": "ac9e3327f611c4d3",
   "execution_count": 31
  },
  {
   "cell_type": "code",
   "outputs": [
    {
     "data": {
      "text/plain": "'catalogue/a-light-in-the-attic_1000/index.html'"
     },
     "execution_count": 32,
     "metadata": {},
     "output_type": "execute_result"
    }
   ],
   "source": [
    "url_book"
   ],
   "metadata": {
    "collapsed": false,
    "ExecuteTime": {
     "end_time": "2024-04-25T09:24:41.978892900Z",
     "start_time": "2024-04-25T09:24:41.948625700Z"
    }
   },
   "id": "7c4d9c54a4a72b25",
   "execution_count": 32
  },
  {
   "cell_type": "code",
   "outputs": [],
   "source": [
    "url_book = url + url_book"
   ],
   "metadata": {
    "collapsed": false,
    "ExecuteTime": {
     "end_time": "2024-04-25T09:25:14.658555600Z",
     "start_time": "2024-04-25T09:25:14.649520600Z"
    }
   },
   "id": "83b76c8cefdc20fc",
   "execution_count": 33
  },
  {
   "cell_type": "code",
   "outputs": [
    {
     "data": {
      "text/plain": "'https://books.toscrape.com/catalogue/a-light-in-the-attic_1000/index.html'"
     },
     "execution_count": 34,
     "metadata": {},
     "output_type": "execute_result"
    }
   ],
   "source": [
    "url_book"
   ],
   "metadata": {
    "collapsed": false,
    "ExecuteTime": {
     "end_time": "2024-04-25T09:25:18.817646500Z",
     "start_time": "2024-04-25T09:25:18.802653800Z"
    }
   },
   "id": "3a4d89a9c6b897d6",
   "execution_count": 34
  },
  {
   "cell_type": "code",
   "outputs": [],
   "source": [],
   "metadata": {
    "collapsed": false
   },
   "id": "2ed6b9d62a47e3e9"
  }
 ],
 "metadata": {
  "kernelspec": {
   "display_name": "Python 3",
   "language": "python",
   "name": "python3"
  },
  "language_info": {
   "codemirror_mode": {
    "name": "ipython",
    "version": 2
   },
   "file_extension": ".py",
   "mimetype": "text/x-python",
   "name": "python",
   "nbconvert_exporter": "python",
   "pygments_lexer": "ipython2",
   "version": "2.7.6"
  }
 },
 "nbformat": 4,
 "nbformat_minor": 5
}
