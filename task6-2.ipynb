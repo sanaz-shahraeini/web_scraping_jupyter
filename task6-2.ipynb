{
 "cells": [
  {
   "cell_type": "code",
   "execution_count": 30,
   "id": "initial_id",
   "metadata": {
    "collapsed": true,
    "ExecuteTime": {
     "end_time": "2024-04-07T06:59:36.651624500Z",
     "start_time": "2024-04-07T06:59:36.645623Z"
    }
   },
   "outputs": [],
   "source": [
    "from bs4 import BeautifulSoup\n",
    "import requests"
   ]
  },
  {
   "cell_type": "code",
   "outputs": [],
   "source": [
    "url = 'https://books.toscrape.com'"
   ],
   "metadata": {
    "collapsed": false,
    "ExecuteTime": {
     "end_time": "2024-04-07T06:59:38.446956500Z",
     "start_time": "2024-04-07T06:59:38.438960500Z"
    }
   },
   "id": "e212adf5f88109b5",
   "execution_count": 31
  },
  {
   "cell_type": "code",
   "outputs": [],
   "source": [
    "data = requests.get(url)"
   ],
   "metadata": {
    "collapsed": false,
    "ExecuteTime": {
     "end_time": "2024-04-07T06:59:42.311876Z",
     "start_time": "2024-04-07T06:59:39.671997900Z"
    }
   },
   "id": "b4b3dccaaf9a80af",
   "execution_count": 32
  },
  {
   "cell_type": "code",
   "outputs": [
    {
     "data": {
      "text/plain": "200"
     },
     "execution_count": 33,
     "metadata": {},
     "output_type": "execute_result"
    }
   ],
   "source": [
    "data.status_code"
   ],
   "metadata": {
    "collapsed": false,
    "ExecuteTime": {
     "end_time": "2024-04-07T06:59:45.535023700Z",
     "start_time": "2024-04-07T06:59:45.467382400Z"
    }
   },
   "id": "c45f518cb52553c2",
   "execution_count": 33
  },
  {
   "cell_type": "code",
   "outputs": [],
   "source": [
    "soup = BeautifulSoup(data.text, features='html.parser')"
   ],
   "metadata": {
    "collapsed": false,
    "ExecuteTime": {
     "end_time": "2024-04-07T06:59:46.724636500Z",
     "start_time": "2024-04-07T06:59:46.709223800Z"
    }
   },
   "id": "343f7112be330a42",
   "execution_count": 34
  },
  {
   "cell_type": "code",
   "outputs": [],
   "source": [
    "first_book = soup.find('a', title='A Light in the Attic')"
   ],
   "metadata": {
    "collapsed": false,
    "ExecuteTime": {
     "end_time": "2024-04-07T06:59:48.013802400Z",
     "start_time": "2024-04-07T06:59:48.005424400Z"
    }
   },
   "id": "102bc7ac78dd75af",
   "execution_count": 35
  },
  {
   "cell_type": "code",
   "outputs": [
    {
     "data": {
      "text/plain": "'A Light in the Attic'"
     },
     "execution_count": 36,
     "metadata": {},
     "output_type": "execute_result"
    }
   ],
   "source": [
    "first_book.get('title')"
   ],
   "metadata": {
    "collapsed": false,
    "ExecuteTime": {
     "end_time": "2024-04-07T06:59:50.764349300Z",
     "start_time": "2024-04-07T06:59:50.709084600Z"
    }
   },
   "id": "54e8a3d220783ce4",
   "execution_count": 36
  },
  {
   "cell_type": "code",
   "outputs": [],
   "source": [
    "price_book = soup.find('p', class_='price_color')"
   ],
   "metadata": {
    "collapsed": false,
    "ExecuteTime": {
     "end_time": "2024-04-07T06:59:52.036718700Z",
     "start_time": "2024-04-07T06:59:52.025951300Z"
    }
   },
   "id": "dac7ac5f0b229f00",
   "execution_count": 37
  },
  {
   "cell_type": "code",
   "outputs": [
    {
     "data": {
      "text/plain": "'51.77'"
     },
     "execution_count": 38,
     "metadata": {},
     "output_type": "execute_result"
    }
   ],
   "source": [
    "price_book.text.replace('Â£', \"\")"
   ],
   "metadata": {
    "collapsed": false,
    "ExecuteTime": {
     "end_time": "2024-04-07T06:59:54.212366900Z",
     "start_time": "2024-04-07T06:59:54.152501600Z"
    }
   },
   "id": "87c6f9fe4bdfb39a",
   "execution_count": 38
  },
  {
   "cell_type": "code",
   "outputs": [],
   "source": [
    "star_book = soup.find('p')"
   ],
   "metadata": {
    "collapsed": false,
    "ExecuteTime": {
     "end_time": "2024-04-07T06:59:55.328738100Z",
     "start_time": "2024-04-07T06:59:55.311236900Z"
    }
   },
   "id": "8b1f7cb4336ae64b",
   "execution_count": 39
  },
  {
   "cell_type": "code",
   "outputs": [],
   "source": [
    "num_star= star_book.get(\"class\")"
   ],
   "metadata": {
    "collapsed": false,
    "ExecuteTime": {
     "end_time": "2024-04-07T06:59:57.459834400Z",
     "start_time": "2024-04-07T06:59:57.451838200Z"
    }
   },
   "id": "aa0fd30d9302fc93",
   "execution_count": 40
  },
  {
   "cell_type": "code",
   "outputs": [
    {
     "data": {
      "text/plain": "'Three'"
     },
     "execution_count": 41,
     "metadata": {},
     "output_type": "execute_result"
    }
   ],
   "source": [
    "num_star[1]"
   ],
   "metadata": {
    "collapsed": false,
    "ExecuteTime": {
     "end_time": "2024-04-07T06:59:58.399893600Z",
     "start_time": "2024-04-07T06:59:58.383516400Z"
    }
   },
   "id": "a1944a00ad902df7",
   "execution_count": 41
  },
  {
   "cell_type": "code",
   "outputs": [],
   "source": [
    "url_book = soup.find('li', class_='col-xs-6 col-sm-4 col-md-3 col-lg-3')"
   ],
   "metadata": {
    "collapsed": false,
    "ExecuteTime": {
     "end_time": "2024-04-07T06:59:59.204436600Z",
     "start_time": "2024-04-07T06:59:59.191062300Z"
    }
   },
   "id": "edd9323e4ec7835d",
   "execution_count": 42
  },
  {
   "cell_type": "code",
   "outputs": [
    {
     "data": {
      "text/plain": "'catalogue/a-light-in-the-attic_1000/index.html'"
     },
     "execution_count": 43,
     "metadata": {},
     "output_type": "execute_result"
    }
   ],
   "source": [
    "url_book.a.get('href')"
   ],
   "metadata": {
    "collapsed": false,
    "ExecuteTime": {
     "end_time": "2024-04-07T06:59:59.997156200Z",
     "start_time": "2024-04-07T06:59:59.974021Z"
    }
   },
   "id": "62908038a6fcd918",
   "execution_count": 43
  },
  {
   "cell_type": "code",
   "outputs": [
    {
     "name": "stdout",
     "output_type": "stream",
     "text": [
      "https://books.toscrape.com+catalogue/a-light-in-the-attic_1000/index.html\n"
     ]
    }
   ],
   "source": [
    "print(f\"{url}+{url_book.a.get('href')}\")"
   ],
   "metadata": {
    "collapsed": false,
    "ExecuteTime": {
     "end_time": "2024-04-07T07:00:00.715770100Z",
     "start_time": "2024-04-07T07:00:00.701949400Z"
    }
   },
   "id": "f4787ba206c8b28f",
   "execution_count": 44
  },
  {
   "cell_type": "code",
   "outputs": [],
   "source": [],
   "metadata": {
    "collapsed": false
   },
   "id": "c142eb49f965d4b9"
  }
 ],
 "metadata": {
  "kernelspec": {
   "display_name": "Python 3",
   "language": "python",
   "name": "python3"
  },
  "language_info": {
   "codemirror_mode": {
    "name": "ipython",
    "version": 2
   },
   "file_extension": ".py",
   "mimetype": "text/x-python",
   "name": "python",
   "nbconvert_exporter": "python",
   "pygments_lexer": "ipython2",
   "version": "2.7.6"
  }
 },
 "nbformat": 4,
 "nbformat_minor": 5
}
